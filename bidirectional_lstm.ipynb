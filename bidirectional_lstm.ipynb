{
 "cells": [
  {
   "cell_type": "code",
   "execution_count": 1,
   "metadata": {
    "collapsed": false,
    "deletable": true,
    "editable": true
   },
   "outputs": [],
   "source": [
    "import pandas as pd\n",
    "import tensorflow as tf\n",
    "import numpy as np\n",
    "from sklearn.model_selection import train_test_split\n",
    "from string import punctuation"
   ]
  },
  {
   "cell_type": "code",
   "execution_count": 2,
   "metadata": {
    "collapsed": false,
    "deletable": true,
    "editable": true
   },
   "outputs": [
    {
     "name": "stdout",
     "output_type": "stream",
     "text": [
      "TensorFlow Version: 1.0.0\n",
      "Default GPU Device: /gpu:0\n"
     ]
    }
   ],
   "source": [
    "from distutils.version import LooseVersion\n",
    "import warnings\n",
    "import tensorflow as tf\n",
    "\n",
    "# Check TensorFlow Version\n",
    "assert LooseVersion(tf.__version__) >= LooseVersion('1.0'), 'Please use TensorFlow version 1.0 or newer'\n",
    "print('TensorFlow Version: {}'.format(tf.__version__))\n",
    "\n",
    "# Check for a GPU\n",
    "if not tf.test.gpu_device_name():\n",
    "    warnings.warn('No GPU found. Please use a GPU to train your neural network.')\n",
    "else:\n",
    "    print('Default GPU Device: {}'.format(tf.test.gpu_device_name()))"
   ]
  },
  {
   "cell_type": "code",
   "execution_count": 3,
   "metadata": {
    "collapsed": true,
    "deletable": true,
    "editable": true
   },
   "outputs": [],
   "source": [
    "train = pd.read_csv('train.csv').fillna(\"Empty\")"
   ]
  },
  {
   "cell_type": "code",
   "execution_count": 4,
   "metadata": {
    "collapsed": false,
    "deletable": true,
    "editable": true
   },
   "outputs": [
    {
     "name": "stdout",
     "output_type": "stream",
     "text": [
      "404290\n"
     ]
    },
    {
     "data": {
      "text/html": [
       "<div>\n",
       "<table border=\"1\" class=\"dataframe\">\n",
       "  <thead>\n",
       "    <tr style=\"text-align: right;\">\n",
       "      <th></th>\n",
       "      <th>id</th>\n",
       "      <th>qid1</th>\n",
       "      <th>qid2</th>\n",
       "      <th>question1</th>\n",
       "      <th>question2</th>\n",
       "      <th>is_duplicate</th>\n",
       "    </tr>\n",
       "  </thead>\n",
       "  <tbody>\n",
       "    <tr>\n",
       "      <th>0</th>\n",
       "      <td>0</td>\n",
       "      <td>1</td>\n",
       "      <td>2</td>\n",
       "      <td>What is the step by step guide to invest in sh...</td>\n",
       "      <td>What is the step by step guide to invest in sh...</td>\n",
       "      <td>0</td>\n",
       "    </tr>\n",
       "    <tr>\n",
       "      <th>1</th>\n",
       "      <td>1</td>\n",
       "      <td>3</td>\n",
       "      <td>4</td>\n",
       "      <td>What is the story of Kohinoor (Koh-i-Noor) Dia...</td>\n",
       "      <td>What would happen if the Indian government sto...</td>\n",
       "      <td>0</td>\n",
       "    </tr>\n",
       "    <tr>\n",
       "      <th>2</th>\n",
       "      <td>2</td>\n",
       "      <td>5</td>\n",
       "      <td>6</td>\n",
       "      <td>How can I increase the speed of my internet co...</td>\n",
       "      <td>How can Internet speed be increased by hacking...</td>\n",
       "      <td>0</td>\n",
       "    </tr>\n",
       "    <tr>\n",
       "      <th>3</th>\n",
       "      <td>3</td>\n",
       "      <td>7</td>\n",
       "      <td>8</td>\n",
       "      <td>Why am I mentally very lonely? How can I solve...</td>\n",
       "      <td>Find the remainder when [math]23^{24}[/math] i...</td>\n",
       "      <td>0</td>\n",
       "    </tr>\n",
       "    <tr>\n",
       "      <th>4</th>\n",
       "      <td>4</td>\n",
       "      <td>9</td>\n",
       "      <td>10</td>\n",
       "      <td>Which one dissolve in water quikly sugar, salt...</td>\n",
       "      <td>Which fish would survive in salt water?</td>\n",
       "      <td>0</td>\n",
       "    </tr>\n",
       "  </tbody>\n",
       "</table>\n",
       "</div>"
      ],
      "text/plain": [
       "   id  qid1  qid2                                          question1  \\\n",
       "0   0     1     2  What is the step by step guide to invest in sh...   \n",
       "1   1     3     4  What is the story of Kohinoor (Koh-i-Noor) Dia...   \n",
       "2   2     5     6  How can I increase the speed of my internet co...   \n",
       "3   3     7     8  Why am I mentally very lonely? How can I solve...   \n",
       "4   4     9    10  Which one dissolve in water quikly sugar, salt...   \n",
       "\n",
       "                                           question2  is_duplicate  \n",
       "0  What is the step by step guide to invest in sh...             0  \n",
       "1  What would happen if the Indian government sto...             0  \n",
       "2  How can Internet speed be increased by hacking...             0  \n",
       "3  Find the remainder when [math]23^{24}[/math] i...             0  \n",
       "4            Which fish would survive in salt water?             0  "
      ]
     },
     "execution_count": 4,
     "metadata": {},
     "output_type": "execute_result"
    }
   ],
   "source": [
    "print(len(train))\n",
    "train.head()"
   ]
  },
  {
   "cell_type": "code",
   "execution_count": 5,
   "metadata": {
    "collapsed": false,
    "deletable": true,
    "editable": true
   },
   "outputs": [],
   "source": [
    "question_words = train['question1'].apply(lambda x: x.split()[0])"
   ]
  },
  {
   "cell_type": "code",
   "execution_count": 6,
   "metadata": {
    "collapsed": false,
    "deletable": true,
    "editable": true
   },
   "outputs": [
    {
     "data": {
      "text/plain": [
       "What      137930\n",
       "How        93409\n",
       "Why        32808\n",
       "Is         22485\n",
       "Which      17468\n",
       "Can        11605\n",
       "I           7906\n",
       "Who         7547\n",
       "Do          6789\n",
       "Where       6641\n",
       "If          5961\n",
       "What's      5638\n",
       "Does        5090\n",
       "Are         4542\n",
       "When        3227\n",
       "Should      3129\n",
       "Will        2981\n",
       "In          1967\n",
       "My          1723\n",
       "Did         1285\n",
       "I'm         1165\n",
       "Has         1100\n",
       "Would       1053\n",
       "Have         887\n",
       "Was          783\n",
       "Could        719\n",
       "As           582\n",
       "Name: question1, dtype: int64"
      ]
     },
     "execution_count": 6,
     "metadata": {},
     "output_type": "execute_result"
    }
   ],
   "source": [
    "value_counts = question_words.value_counts()\n",
    "value_counts = value_counts[value_counts>500]\n",
    "value_counts"
   ]
  },
  {
   "cell_type": "code",
   "execution_count": 7,
   "metadata": {
    "collapsed": false,
    "deletable": true,
    "editable": true
   },
   "outputs": [
    {
     "name": "stdout",
     "output_type": "stream",
     "text": [
      "404290\n",
      "404290\n",
      "Max sentence length 1169.00\n",
      "Min sentence length 1.00\n",
      "Average sentence length 59.82\n",
      "Median senctence length 51.00\n",
      "Standard deviation 31.96\n",
      "Mean plus 2 X STD 123.75\n",
      "Percent greater than max_words 0.10\n"
     ]
    }
   ],
   "source": [
    "sentence_lengths1 = train['question1'].apply(len)\n",
    "sentence_lengths2 = train['question2'].apply(len)\n",
    "print(len(sentence_lengths1))\n",
    "print(len(sentence_lengths2))\n",
    "sentence_lengths = sentence_lengths1.append(sentence_lengths2)\n",
    "print(\"Max sentence length %.2f\" % np.max(sentence_lengths))\n",
    "print(\"Min sentence length %.2f\" % np.min(sentence_lengths))\n",
    "print(\"Average sentence length %.2f\" % np.mean(sentence_lengths))\n",
    "print(\"Median senctence length %.2f\" % np.median(sentence_lengths))\n",
    "print(\"Standard deviation %.2f\" % np.std(sentence_lengths))\n",
    "print(\"Mean plus 2 X STD %.2f\" % (2 * np.std(sentence_lengths) + np.mean(sentence_lengths)))\n",
    "\n",
    "max_words = 100\n",
    "greater_than = sentence_lengths[sentence_lengths > max_words]\n",
    "print(\"Percent greater than max_words %.2f\" % (len(greater_than)/ len(sentence_lengths)))"
   ]
  },
  {
   "cell_type": "markdown",
   "metadata": {
    "collapsed": true,
    "deletable": true,
    "editable": true
   },
   "source": [
    "# Train and Test Splits"
   ]
  },
  {
   "cell_type": "code",
   "execution_count": 8,
   "metadata": {
    "collapsed": false,
    "deletable": true,
    "editable": true
   },
   "outputs": [],
   "source": [
    "# train_data, test_data = train_test_split(train, test_size=0.25)\n",
    "train_questions1 = train['question1'].tolist()\n",
    "train_questions2 = train['question2'].tolist()\n",
    "train_data_labels = train['is_duplicate'].tolist()"
   ]
  },
  {
   "cell_type": "code",
   "execution_count": 9,
   "metadata": {
    "collapsed": false,
    "deletable": true,
    "editable": true
   },
   "outputs": [],
   "source": [
    "def build_int_dict(questions, max_vocab):\n",
    "    all_questions = ' '.join([c.lower().translate(str.maketrans(\"\", \"\", punctuation)) for c in questions])\n",
    "    words = all_questions.split()\n",
    "    from collections import Counter\n",
    "    vocab = Counter(words).most_common(max_vocab)\n",
    "    vocab_to_int = {word[0]: ii for ii, word in enumerate(vocab, 1)}\n",
    "    vocab_to_int[''] = len(vocab_to_int.keys()) + 1\n",
    "    vocab_to_int['<UNK>'] = len(vocab_to_int.keys()) + 1\n",
    "    \n",
    "    return vocab_to_int"
   ]
  },
  {
   "cell_type": "code",
   "execution_count": 10,
   "metadata": {
    "collapsed": false,
    "deletable": true,
    "editable": true
   },
   "outputs": [
    {
     "name": "stdout",
     "output_type": "stream",
     "text": [
      "80002\n"
     ]
    }
   ],
   "source": [
    "max_vocab = 80000\n",
    "train_questions = train_questions1[:]\n",
    "train_questions.extend(train_questions2)\n",
    "\n",
    "vocab_to_int_dict = build_int_dict(train_questions, max_vocab)\n",
    "print(len(vocab_to_int_dict.keys()))"
   ]
  },
  {
   "cell_type": "code",
   "execution_count": 11,
   "metadata": {
    "collapsed": false,
    "deletable": true,
    "editable": true
   },
   "outputs": [
    {
     "name": "stdout",
     "output_type": "stream",
     "text": [
      "['What is the step by step guide to invest in share market in india?', 'What is the story of Kohinoor (Koh-i-Noor) Diamond?', 'How can I increase the speed of my internet connection while using a VPN?', 'Why am I mentally very lonely? How can I solve it?', 'Which one dissolve in water quikly sugar, salt, methane and carbon di oxide?', 'Astrology: I am a Capricorn Sun Cap moon and cap rising...what does that say about me?', 'Should I buy tiago?', 'How can I be a good geologist?', 'When do you use シ instead of し?', 'Motorola (company): Can I hack my Charter Motorolla DCX3400?']\n",
      "80002\n"
     ]
    }
   ],
   "source": [
    "print(train_questions1[0:10])\n",
    "print(len(vocab_to_int_dict))"
   ]
  },
  {
   "cell_type": "code",
   "execution_count": 12,
   "metadata": {
    "collapsed": true,
    "deletable": true,
    "editable": true
   },
   "outputs": [],
   "source": [
    "def convert_to_ints(questions, seq_len, vocab_to_int):\n",
    "    all_questions_ints = []\n",
    "    for i, each in enumerate(questions):\n",
    "        question_ints = []\n",
    "        if i % 100000 == 0:\n",
    "            print(i)\n",
    "        for word in each.split():\n",
    "            if word.lower().translate(str.maketrans(\"\",\"\",punctuation)) in vocab_to_int.keys():\n",
    "                question_ints.append(vocab_to_int[word.lower().translate(str.maketrans(\"\",\"\",punctuation))])\n",
    "            else:\n",
    "                question_ints.append(vocab_to_int['<UNK>'])\n",
    "        all_questions_ints.append(question_ints)\n",
    "    \n",
    "    print(\"Finished converting to ints. Now padding...\")\n",
    "    features = np.zeros((len(all_questions_ints), seq_len), dtype=int)\n",
    "    for i, row in enumerate(all_questions_ints):\n",
    "        features[i, -len(row):] = np.array(row)[:seq_len]\n",
    "        \n",
    "    return features"
   ]
  },
  {
   "cell_type": "code",
   "execution_count": 13,
   "metadata": {
    "collapsed": false,
    "deletable": true,
    "editable": true
   },
   "outputs": [
    {
     "name": "stdout",
     "output_type": "stream",
     "text": [
      "0\n",
      "100000\n",
      "200000\n",
      "300000\n",
      "400000\n",
      "Finished converting to ints. Now padding...\n",
      "0\n",
      "100000\n",
      "200000\n",
      "300000\n",
      "400000\n",
      "Finished converting to ints. Now padding...\n"
     ]
    }
   ],
   "source": [
    "question_ints1 = convert_to_ints(train_questions1, max_words, vocab_to_int_dict)\n",
    "question_ints2 = convert_to_ints(train_questions2, max_words, vocab_to_int_dict)"
   ]
  },
  {
   "cell_type": "code",
   "execution_count": 14,
   "metadata": {
    "collapsed": false,
    "deletable": true,
    "editable": true
   },
   "outputs": [],
   "source": [
    "!mkdir checkpoints"
   ]
  },
  {
   "cell_type": "code",
   "execution_count": 15,
   "metadata": {
    "collapsed": false,
    "deletable": true,
    "editable": true
   },
   "outputs": [
    {
     "name": "stdout",
     "output_type": "stream",
     "text": [
      "\t\t\tFeature Shapes:\n",
      "Train set: \t\t(323432, 100) \n",
      "Validation set: \t(40429, 100) \n",
      "Test set: \t\t(40429, 100)\n"
     ]
    }
   ],
   "source": [
    "split_frac = 0.8\n",
    "split_idx = int(len(question_ints1)*split_frac)\n",
    "train_q1, val_q1 = question_ints1[:split_idx], question_ints1[split_idx:]\n",
    "train_q2, val_q2 = question_ints2[:split_idx], question_ints2[split_idx:]\n",
    "train_y, val_y = train_data_labels[:split_idx], train_data_labels[split_idx:]\n",
    "train_y = np.array(train_y)\n",
    "val_y = np.array(val_y)\n",
    "\n",
    "test_idx = int(len(val_q1)*0.5)\n",
    "val_q1, test_q1 = val_q1[:test_idx], val_q1[test_idx:]\n",
    "val_q2, test_q2 = val_q2[:test_idx], val_q2[test_idx:]\n",
    "val_y, test_y = val_y[:test_idx], val_y[test_idx:]\n",
    "\n",
    "print(\"\\t\\t\\tFeature Shapes:\")\n",
    "print(\"Train set: \\t\\t{}\".format(train_q1.shape), \n",
    "      \"\\nValidation set: \\t{}\".format(val_q1.shape),\n",
    "      \"\\nTest set: \\t\\t{}\".format(test_q1.shape))"
   ]
  },
  {
   "cell_type": "code",
   "execution_count": 23,
   "metadata": {
    "collapsed": false,
    "deletable": true,
    "editable": true
   },
   "outputs": [],
   "source": [
    "lstm_size = 250\n",
    "lstm_layers = 1\n",
    "batch_size = 256\n",
    "learning_rate = 0.002\n",
    "# Size of the embedding vectors (number of units in the embedding layer)\n",
    "embed_size = 300 \n",
    "seq_length = max_words"
   ]
  },
  {
   "cell_type": "code",
   "execution_count": 24,
   "metadata": {
    "collapsed": false,
    "deletable": true,
    "editable": true
   },
   "outputs": [],
   "source": [
    "# n_words1 = len(question1_vocab_to_int)\n",
    "# n_words2 = len(question2_vocab_to_int)\n",
    "\n",
    "# # Create the graph object\n",
    "# graph = tf.Graph()\n",
    "# # Add nodes to the graph\n",
    "# with graph.as_default():\n",
    "#     inputs_1 = tf.placeholder(tf.int32, [None, None], name='inputs')\n",
    "#     inputs_2 = tf.placeholder(tf.int32, [None, None], name='inputs')\n",
    "#     labels_ = tf.placeholder(tf.int32, [None, None], name='labels')\n",
    "#     keep_prob = tf.placeholder(tf.float32, name='keep_prob')"
   ]
  },
  {
   "cell_type": "code",
   "execution_count": 25,
   "metadata": {
    "collapsed": false,
    "deletable": true,
    "editable": true
   },
   "outputs": [],
   "source": [
    "n_words = len(vocab_to_int_dict) + 1\n",
    "\n",
    "tf.reset_default_graph()\n",
    "\n",
    "# Create the graph object\n",
    "# graph = tf.Graph()\n",
    "# Add nodes to the graph\n",
    "with tf.variable_scope('questions', reuse=None):\n",
    "    inputs_1 = tf.placeholder(tf.int32, [None, None], name='inputs')\n",
    "    inputs_2 = tf.placeholder(tf.int32, [None, None], name='inputs')\n",
    "    labels_ = tf.placeholder(tf.int32, [None, None], name='labels')\n",
    "    keep_prob = tf.placeholder(tf.float32, name='keep_prob')\n",
    "    seq_len = tf.placeholder(tf.int32, [None])\n",
    "    \n",
    "\n",
    "    embedding1 = tf.Variable(tf.random_uniform((n_words, embed_size), -1, 1))\n",
    "    embed1 = tf.nn.embedding_lookup(embedding1, inputs_1)\n",
    "    \n",
    "    # Your basic LSTM cell\n",
    "    lstm_fwd1 = tf.contrib.rnn.BasicLSTMCell(lstm_size)\n",
    "    lstm_bwd1 = tf.contrib.rnn.BasicLSTMCell(lstm_size)\n",
    "    \n",
    "    # Add dropout to the cell\n",
    "    drop_fwd1 = tf.contrib.rnn.DropoutWrapper(lstm_fwd1, output_keep_prob=keep_prob)\n",
    "    drop_bwd1 = tf.contrib.rnn.DropoutWrapper(lstm_bwd1, output_keep_prob=keep_prob)\n",
    "    \n",
    "    # Stack up multiple LSTM layers, for deep learning\n",
    "    cell_fwd1 = tf.contrib.rnn.MultiRNNCell([drop_fwd1] * lstm_layers)\n",
    "    cell_bwd1 = tf.contrib.rnn.MultiRNNCell([drop_bwd1] * lstm_layers)\n",
    "    \n",
    "    # Getting an initial state of all zeros\n",
    "    initial_state_fwd1 = cell_fwd1.zero_state(batch_size, tf.float32)\n",
    "    initial_state_bwd1 = cell_bwd1.zero_state(batch_size, tf.float32)\n",
    "\n",
    "    outputs1, final_state1 = tf.nn.bidirectional_dynamic_rnn(cell_fwd1,cell_bwd1, embed1,\n",
    "                                             initial_state_fw=initial_state_fwd1,\n",
    "                                             initial_state_bw=initial_state_bwd1, sequence_length=seq_len)\n",
    "    \n",
    "with tf.variable_scope('questions', reuse=True):\n",
    "    embedding2 = tf.Variable(tf.random_uniform((n_words, embed_size), -1, 1))\n",
    "    embed2 = tf.nn.embedding_lookup(embedding2, inputs_2)\n",
    "    \n",
    "    # Your basic LSTM cell\n",
    "    lstm_fwd2 = tf.contrib.rnn.BasicLSTMCell(lstm_size)\n",
    "    lstm_bwd2 = tf.contrib.rnn.BasicLSTMCell(lstm_size)\n",
    "    \n",
    "    # Add dropout to the cell\n",
    "    drop_fwd2 = tf.contrib.rnn.DropoutWrapper(lstm_fwd2, output_keep_prob=keep_prob)\n",
    "    drop_bwd2 = tf.contrib.rnn.DropoutWrapper(lstm_bwd2, output_keep_prob=keep_prob)\n",
    "    \n",
    "    # Stack up multiple LSTM layers, for deep learning\n",
    "    cell_fwd2 = tf.contrib.rnn.MultiRNNCell([drop_fwd2] * lstm_layers)\n",
    "    cell_bwd2 = tf.contrib.rnn.MultiRNNCell([drop_bwd2] * lstm_layers)\n",
    "    \n",
    "    # Getting an initial state of all zeros\n",
    "    initial_state_fwd2 = cell_fwd2.zero_state(batch_size, tf.float32)\n",
    "    initial_state_bwd2 = cell_bwd2.zero_state(batch_size, tf.float32)\n",
    "    \n",
    "    outputs2, final_state2 = tf.nn.bidirectional_dynamic_rnn(cell_fwd2, cell_bwd2, embed2,\n",
    "                                             initial_state_fw=initial_state_fwd2,\n",
    "                                             initial_state_bw=initial_state_bwd2,sequence_length=seq_len)"
   ]
  },
  {
   "cell_type": "code",
   "execution_count": 26,
   "metadata": {
    "collapsed": false,
    "deletable": true,
    "editable": true
   },
   "outputs": [],
   "source": [
    "with tf.variable_scope('questions', reuse=False):\n",
    "    outputs1 = tf.concat(outputs1, 2)\n",
    "    outputs2 = tf.concat(outputs2, 2)\n",
    "    outputs = tf.concat([outputs1[:,-1], outputs2[:,-1]], 1)\n",
    "    final_state = tf.concat([final_state1, final_state2], 1)\n",
    "    \n",
    "    num_dense = tf.placeholder(tf.int32, [None])\n",
    "    dense_layer = tf.contrib.layers.fully_connected(outputs, num_dense, activation='relu')\n",
    "    drop_dense = tf.contrib.rnn.DropoutWrapper(dense_layer, output_keep_prob=keep_prob)\n",
    "    predictions = tf.contrib.layers.fully_connected(drop_dense, 1, activation_fn=tf.sigmoid)\n",
    "    cost = tf.losses.log_loss(labels_, predictions)\n",
    "    \n",
    "    optimizer = tf.train.AdamOptimizer(learning_rate).minimize(cost)"
   ]
  },
  {
   "cell_type": "code",
   "execution_count": 27,
   "metadata": {
    "collapsed": true,
    "deletable": true,
    "editable": true
   },
   "outputs": [],
   "source": [
    "with tf.variable_scope('questions', reuse=False):\n",
    "    correct_pred = tf.equal(tf.cast(tf.round(predictions), tf.int32), labels_)\n",
    "    accuracy = tf.reduce_mean(tf.cast(correct_pred, tf.float32))"
   ]
  },
  {
   "cell_type": "code",
   "execution_count": 28,
   "metadata": {
    "collapsed": true,
    "deletable": true,
    "editable": true
   },
   "outputs": [],
   "source": [
    "def get_batches(x1, x2, y, batch_size=100):\n",
    "    if y != None:\n",
    "        n_batches = len(x1)//batch_size\n",
    "        x1, x2, y = x1[:n_batches*batch_size], x2[:n_batches*batch_size], y[:n_batches*batch_size]\n",
    "        for ii in range(0, len(x1), batch_size):\n",
    "            yield x1[ii:ii+batch_size], x2[ii:ii+batch_size], y[ii:ii+batch_size]\n",
    "    else:\n",
    "        n_batches = len(x1)//batch_size\n",
    "        x1, x2, _ = x1[:n_batches*batch_size], x2[:n_batches*batch_size], None\n",
    "        for ii in range(0, len(x1), batch_size):\n",
    "            yield x1[ii:ii+batch_size], x2[ii:ii+batch_size], None"
   ]
  },
  {
   "cell_type": "code",
   "execution_count": null,
   "metadata": {
    "collapsed": false,
    "deletable": true,
    "editable": true
   },
   "outputs": [
    {
     "name": "stderr",
     "output_type": "stream",
     "text": [
      "/home/carnd/anaconda3/envs/dl/lib/python3.5/site-packages/ipykernel/__main__.py:2: FutureWarning: comparison to `None` will result in an elementwise object comparison in the future.\n",
      "  from ipykernel import kernelapp as app\n"
     ]
    },
    {
     "name": "stdout",
     "output_type": "stream",
     "text": [
      "Epoch: 1/3 Iteration: 10 Train loss: 0.674\n",
      "Epoch: 1/3 Iteration: 20 Train loss: 0.629\n",
      "Epoch: 1/3 Iteration: 30 Train loss: 0.603\n",
      "Epoch: 1/3 Iteration: 40 Train loss: 0.595\n",
      "Epoch: 1/3 Iteration: 50 Train loss: 0.525\n",
      "Epoch: 1/3 Iteration: 60 Train loss: 0.672\n",
      "Epoch: 1/3 Iteration: 70 Train loss: 0.566\n",
      "Epoch: 1/3 Iteration: 80 Train loss: 0.580\n",
      "Epoch: 1/3 Iteration: 90 Train loss: 0.553\n",
      "Epoch: 1/3 Iteration: 100 Train loss: 0.566\n",
      "Epoch: 1/3 Iteration: 110 Train loss: 0.530\n",
      "Epoch: 1/3 Iteration: 120 Train loss: 0.520\n",
      "Epoch: 1/3 Iteration: 130 Train loss: 0.563\n",
      "Epoch: 1/3 Iteration: 140 Train loss: 0.471\n",
      "Epoch: 1/3 Iteration: 150 Train loss: 0.557\n",
      "Epoch: 1/3 Iteration: 160 Train loss: 0.572\n",
      "Epoch: 1/3 Iteration: 170 Train loss: 0.544\n",
      "Epoch: 1/3 Iteration: 180 Train loss: 0.554\n",
      "Epoch: 1/3 Iteration: 190 Train loss: 0.512\n",
      "Epoch: 1/3 Iteration: 200 Train loss: 0.544\n",
      "Val acc: 0.534\n",
      "Epoch: 1/3 Iteration: 210 Train loss: 0.563\n",
      "Epoch: 1/3 Iteration: 220 Train loss: 0.533\n",
      "Epoch: 1/3 Iteration: 230 Train loss: 0.608\n",
      "Epoch: 1/3 Iteration: 240 Train loss: 0.486\n",
      "Epoch: 1/3 Iteration: 250 Train loss: 0.605\n",
      "Epoch: 1/3 Iteration: 260 Train loss: 0.525\n",
      "Epoch: 1/3 Iteration: 270 Train loss: 0.489\n",
      "Epoch: 1/3 Iteration: 280 Train loss: 0.514\n",
      "Epoch: 1/3 Iteration: 290 Train loss: 0.513\n",
      "Epoch: 1/3 Iteration: 300 Train loss: 0.529\n",
      "Epoch: 1/3 Iteration: 310 Train loss: 0.519\n",
      "Epoch: 1/3 Iteration: 320 Train loss: 0.506\n",
      "Epoch: 1/3 Iteration: 330 Train loss: 0.570\n",
      "Epoch: 1/3 Iteration: 340 Train loss: 0.524\n",
      "Epoch: 1/3 Iteration: 350 Train loss: 0.548\n",
      "Epoch: 1/3 Iteration: 360 Train loss: 0.511\n",
      "Epoch: 1/3 Iteration: 370 Train loss: 0.507\n",
      "Epoch: 1/3 Iteration: 380 Train loss: 0.548\n",
      "Epoch: 1/3 Iteration: 390 Train loss: 0.536\n",
      "Epoch: 1/3 Iteration: 400 Train loss: 0.515\n",
      "Val acc: 0.516\n",
      "Epoch: 1/3 Iteration: 410 Train loss: 0.533\n",
      "Epoch: 1/3 Iteration: 420 Train loss: 0.472\n",
      "Epoch: 1/3 Iteration: 430 Train loss: 0.518\n",
      "Epoch: 1/3 Iteration: 440 Train loss: 0.528\n",
      "Epoch: 1/3 Iteration: 450 Train loss: 0.530\n",
      "Epoch: 1/3 Iteration: 460 Train loss: 0.608\n",
      "Epoch: 1/3 Iteration: 470 Train loss: 0.507\n",
      "Epoch: 1/3 Iteration: 480 Train loss: 0.533\n",
      "Epoch: 1/3 Iteration: 490 Train loss: 0.473\n",
      "Epoch: 1/3 Iteration: 500 Train loss: 0.510\n",
      "Epoch: 1/3 Iteration: 510 Train loss: 0.484\n",
      "Epoch: 1/3 Iteration: 520 Train loss: 0.464\n",
      "Epoch: 1/3 Iteration: 530 Train loss: 0.460\n",
      "Epoch: 1/3 Iteration: 540 Train loss: 0.475\n",
      "Epoch: 1/3 Iteration: 550 Train loss: 0.489\n",
      "Epoch: 1/3 Iteration: 560 Train loss: 0.495\n",
      "Epoch: 1/3 Iteration: 570 Train loss: 0.483\n",
      "Epoch: 1/3 Iteration: 580 Train loss: 0.533\n",
      "Epoch: 1/3 Iteration: 590 Train loss: 0.497\n",
      "Epoch: 1/3 Iteration: 600 Train loss: 0.464\n",
      "Val acc: 0.506\n",
      "Epoch: 1/3 Iteration: 610 Train loss: 0.466\n",
      "Epoch: 1/3 Iteration: 620 Train loss: 0.527\n",
      "Epoch: 1/3 Iteration: 630 Train loss: 0.517\n",
      "Epoch: 1/3 Iteration: 640 Train loss: 0.448\n",
      "Epoch: 1/3 Iteration: 650 Train loss: 0.478\n",
      "Epoch: 1/3 Iteration: 660 Train loss: 0.591\n",
      "Epoch: 1/3 Iteration: 670 Train loss: 0.492\n",
      "Epoch: 1/3 Iteration: 680 Train loss: 0.482\n",
      "Epoch: 1/3 Iteration: 690 Train loss: 0.574\n",
      "Epoch: 1/3 Iteration: 700 Train loss: 0.444\n",
      "Epoch: 1/3 Iteration: 710 Train loss: 0.556\n",
      "Epoch: 1/3 Iteration: 720 Train loss: 0.468\n",
      "Epoch: 1/3 Iteration: 730 Train loss: 0.539\n",
      "Epoch: 1/3 Iteration: 740 Train loss: 0.480\n",
      "Epoch: 1/3 Iteration: 750 Train loss: 0.523\n",
      "Epoch: 1/3 Iteration: 760 Train loss: 0.491\n",
      "Epoch: 1/3 Iteration: 770 Train loss: 0.490\n",
      "Epoch: 1/3 Iteration: 780 Train loss: 0.508\n",
      "Epoch: 1/3 Iteration: 790 Train loss: 0.454\n",
      "Epoch: 1/3 Iteration: 800 Train loss: 0.547\n",
      "Val acc: 0.499\n",
      "Epoch: 1/3 Iteration: 810 Train loss: 0.494\n",
      "Epoch: 1/3 Iteration: 820 Train loss: 0.544\n",
      "Epoch: 1/3 Iteration: 830 Train loss: 0.478\n",
      "Epoch: 1/3 Iteration: 840 Train loss: 0.562\n",
      "Epoch: 1/3 Iteration: 850 Train loss: 0.498\n",
      "Epoch: 1/3 Iteration: 860 Train loss: 0.562\n",
      "Epoch: 1/3 Iteration: 870 Train loss: 0.489\n",
      "Epoch: 1/3 Iteration: 880 Train loss: 0.432\n",
      "Epoch: 1/3 Iteration: 890 Train loss: 0.489\n",
      "Epoch: 1/3 Iteration: 900 Train loss: 0.525\n",
      "Epoch: 1/3 Iteration: 910 Train loss: 0.459\n",
      "Epoch: 1/3 Iteration: 920 Train loss: 0.490\n",
      "Epoch: 1/3 Iteration: 930 Train loss: 0.441\n",
      "Epoch: 1/3 Iteration: 940 Train loss: 0.501\n",
      "Epoch: 1/3 Iteration: 950 Train loss: 0.492\n",
      "Epoch: 1/3 Iteration: 960 Train loss: 0.579\n",
      "Epoch: 1/3 Iteration: 970 Train loss: 0.478\n",
      "Epoch: 1/3 Iteration: 980 Train loss: 0.492\n",
      "Epoch: 1/3 Iteration: 990 Train loss: 0.543\n",
      "Epoch: 1/3 Iteration: 1000 Train loss: 0.449\n",
      "Val acc: 0.491\n",
      "Epoch: 1/3 Iteration: 1010 Train loss: 0.524\n",
      "Epoch: 1/3 Iteration: 1020 Train loss: 0.485\n",
      "Epoch: 1/3 Iteration: 1030 Train loss: 0.506\n",
      "Epoch: 1/3 Iteration: 1230 Train loss: 0.513\n",
      "Epoch: 1/3 Iteration: 1240 Train loss: 0.514\n",
      "Epoch: 1/3 Iteration: 1250 Train loss: 0.509\n",
      "Epoch: 1/3 Iteration: 1260 Train loss: 0.462\n",
      "Epoch: 2/3 Iteration: 1270 Train loss: 0.462\n",
      "Epoch: 2/3 Iteration: 1280 Train loss: 0.514\n",
      "Epoch: 2/3 Iteration: 1290 Train loss: 0.433\n",
      "Epoch: 2/3 Iteration: 1300 Train loss: 0.434\n",
      "Epoch: 2/3 Iteration: 1310 Train loss: 0.468\n",
      "Epoch: 2/3 Iteration: 1320 Train loss: 0.483\n",
      "Epoch: 2/3 Iteration: 1330 Train loss: 0.447\n",
      "Epoch: 2/3 Iteration: 1340 Train loss: 0.451\n",
      "Epoch: 2/3 Iteration: 1350 Train loss: 0.448\n",
      "Epoch: 2/3 Iteration: 1360 Train loss: 0.377\n",
      "Epoch: 2/3 Iteration: 1370 Train loss: 0.467\n",
      "Epoch: 2/3 Iteration: 1380 Train loss: 0.480\n",
      "Epoch: 2/3 Iteration: 1390 Train loss: 0.472\n",
      "Epoch: 2/3 Iteration: 1400 Train loss: 0.429\n",
      "Val acc: 0.490\n",
      "Epoch: 2/3 Iteration: 1410 Train loss: 0.443\n",
      "Epoch: 2/3 Iteration: 1420 Train loss: 0.453\n",
      "Epoch: 2/3 Iteration: 1430 Train loss: 0.447\n",
      "Epoch: 2/3 Iteration: 1440 Train loss: 0.475\n",
      "Epoch: 2/3 Iteration: 1450 Train loss: 0.415\n",
      "Epoch: 2/3 Iteration: 1460 Train loss: 0.430\n",
      "Epoch: 2/3 Iteration: 1470 Train loss: 0.373\n",
      "Epoch: 2/3 Iteration: 1480 Train loss: 0.463\n",
      "Epoch: 2/3 Iteration: 1490 Train loss: 0.402\n",
      "Epoch: 2/3 Iteration: 1500 Train loss: 0.489\n",
      "Epoch: 2/3 Iteration: 1510 Train loss: 0.412\n",
      "Epoch: 2/3 Iteration: 1520 Train loss: 0.443\n",
      "Epoch: 2/3 Iteration: 1530 Train loss: 0.433\n",
      "Epoch: 2/3 Iteration: 1540 Train loss: 0.411\n",
      "Epoch: 2/3 Iteration: 1550 Train loss: 0.517\n",
      "Epoch: 2/3 Iteration: 1560 Train loss: 0.444\n",
      "Epoch: 2/3 Iteration: 1570 Train loss: 0.510\n",
      "Epoch: 2/3 Iteration: 1580 Train loss: 0.365\n",
      "Epoch: 2/3 Iteration: 1590 Train loss: 0.381\n",
      "Epoch: 2/3 Iteration: 1600 Train loss: 0.443\n",
      "Val acc: 0.489\n",
      "Epoch: 2/3 Iteration: 1610 Train loss: 0.394\n",
      "Epoch: 2/3 Iteration: 1620 Train loss: 0.432\n",
      "Epoch: 2/3 Iteration: 1630 Train loss: 0.455\n",
      "Epoch: 2/3 Iteration: 1640 Train loss: 0.458\n",
      "Epoch: 2/3 Iteration: 1650 Train loss: 0.433\n",
      "Epoch: 2/3 Iteration: 1660 Train loss: 0.417\n",
      "Epoch: 2/3 Iteration: 1670 Train loss: 0.424\n",
      "Epoch: 2/3 Iteration: 1680 Train loss: 0.412\n",
      "Epoch: 2/3 Iteration: 1690 Train loss: 0.476\n",
      "Epoch: 2/3 Iteration: 1700 Train loss: 0.373\n",
      "Epoch: 2/3 Iteration: 1710 Train loss: 0.389\n",
      "Epoch: 2/3 Iteration: 1720 Train loss: 0.418\n",
      "Epoch: 2/3 Iteration: 1730 Train loss: 0.435\n",
      "Epoch: 2/3 Iteration: 1740 Train loss: 0.420\n",
      "Epoch: 2/3 Iteration: 1750 Train loss: 0.448\n",
      "Epoch: 2/3 Iteration: 1760 Train loss: 0.402\n",
      "Epoch: 2/3 Iteration: 1770 Train loss: 0.435\n",
      "Epoch: 2/3 Iteration: 1780 Train loss: 0.391\n",
      "Epoch: 2/3 Iteration: 1790 Train loss: 0.491\n",
      "Epoch: 2/3 Iteration: 1800 Train loss: 0.410\n",
      "Val acc: 0.493\n",
      "Epoch: 2/3 Iteration: 1810 Train loss: 0.389\n",
      "Epoch: 2/3 Iteration: 1820 Train loss: 0.387\n",
      "Epoch: 2/3 Iteration: 1830 Train loss: 0.433\n",
      "Epoch: 2/3 Iteration: 1840 Train loss: 0.393\n",
      "Epoch: 2/3 Iteration: 1850 Train loss: 0.399\n",
      "Epoch: 2/3 Iteration: 1860 Train loss: 0.422\n",
      "Epoch: 2/3 Iteration: 1870 Train loss: 0.360\n",
      "Epoch: 2/3 Iteration: 1880 Train loss: 0.384\n",
      "Epoch: 2/3 Iteration: 1890 Train loss: 0.364\n",
      "Epoch: 2/3 Iteration: 1900 Train loss: 0.410\n",
      "Epoch: 2/3 Iteration: 1910 Train loss: 0.430\n",
      "Epoch: 2/3 Iteration: 1920 Train loss: 0.424\n",
      "Epoch: 2/3 Iteration: 1930 Train loss: 0.382\n",
      "Epoch: 2/3 Iteration: 1940 Train loss: 0.439\n",
      "Epoch: 2/3 Iteration: 1950 Train loss: 0.355\n",
      "Epoch: 2/3 Iteration: 1960 Train loss: 0.479\n",
      "Epoch: 2/3 Iteration: 1970 Train loss: 0.427\n",
      "Epoch: 2/3 Iteration: 1980 Train loss: 0.369\n",
      "Epoch: 2/3 Iteration: 1990 Train loss: 0.390\n",
      "Epoch: 2/3 Iteration: 2000 Train loss: 0.467\n",
      "Val acc: 0.495\n",
      "Epoch: 2/3 Iteration: 2010 Train loss: 0.365\n",
      "Epoch: 2/3 Iteration: 2020 Train loss: 0.443\n",
      "Epoch: 2/3 Iteration: 2030 Train loss: 0.381\n",
      "Epoch: 2/3 Iteration: 2040 Train loss: 0.326\n",
      "Epoch: 2/3 Iteration: 2050 Train loss: 0.446\n",
      "Epoch: 2/3 Iteration: 2060 Train loss: 0.435\n",
      "Epoch: 2/3 Iteration: 2070 Train loss: 0.503\n",
      "Epoch: 2/3 Iteration: 2080 Train loss: 0.389\n",
      "Epoch: 2/3 Iteration: 2090 Train loss: 0.425\n",
      "Epoch: 2/3 Iteration: 2100 Train loss: 0.410\n",
      "Epoch: 2/3 Iteration: 2110 Train loss: 0.365\n",
      "Epoch: 2/3 Iteration: 2120 Train loss: 0.391\n",
      "Epoch: 2/3 Iteration: 2130 Train loss: 0.414\n",
      "Epoch: 2/3 Iteration: 2140 Train loss: 0.399\n",
      "Epoch: 2/3 Iteration: 2150 Train loss: 0.426\n",
      "Epoch: 2/3 Iteration: 2160 Train loss: 0.356\n",
      "Epoch: 2/3 Iteration: 2170 Train loss: 0.403\n",
      "Epoch: 2/3 Iteration: 2180 Train loss: 0.417\n",
      "Epoch: 2/3 Iteration: 2190 Train loss: 0.327\n",
      "Epoch: 2/3 Iteration: 2200 Train loss: 0.456\n",
      "Val acc: 0.504\n",
      "Epoch: 2/3 Iteration: 2210 Train loss: 0.331\n",
      "Epoch: 2/3 Iteration: 2220 Train loss: 0.411\n",
      "Epoch: 2/3 Iteration: 2230 Train loss: 0.367\n",
      "Epoch: 2/3 Iteration: 2240 Train loss: 0.403\n",
      "Epoch: 2/3 Iteration: 2250 Train loss: 0.343\n",
      "Epoch: 2/3 Iteration: 2260 Train loss: 0.460\n",
      "Epoch: 2/3 Iteration: 2270 Train loss: 0.409\n",
      "Epoch: 2/3 Iteration: 2280 Train loss: 0.428\n",
      "Epoch: 2/3 Iteration: 2290 Train loss: 0.455\n",
      "Epoch: 2/3 Iteration: 2300 Train loss: 0.461\n",
      "Epoch: 2/3 Iteration: 2310 Train loss: 0.355\n",
      "Epoch: 2/3 Iteration: 2320 Train loss: 0.428\n",
      "Epoch: 2/3 Iteration: 2330 Train loss: 0.407\n",
      "Epoch: 2/3 Iteration: 2340 Train loss: 0.417\n",
      "Epoch: 2/3 Iteration: 2350 Train loss: 0.433\n",
      "Epoch: 2/3 Iteration: 2360 Train loss: 0.428\n",
      "Epoch: 2/3 Iteration: 2370 Train loss: 0.391\n",
      "Epoch: 2/3 Iteration: 2380 Train loss: 0.388\n",
      "Epoch: 2/3 Iteration: 2390 Train loss: 0.401\n",
      "Epoch: 2/3 Iteration: 2400 Train loss: 0.373\n",
      "Val acc: 0.486\n",
      "Epoch: 2/3 Iteration: 2410 Train loss: 0.344\n",
      "Epoch: 2/3 Iteration: 2420 Train loss: 0.438\n",
      "Epoch: 2/3 Iteration: 2430 Train loss: 0.365\n",
      "Epoch: 2/3 Iteration: 2440 Train loss: 0.377\n",
      "Epoch: 2/3 Iteration: 2450 Train loss: 0.353\n",
      "Epoch: 2/3 Iteration: 2460 Train loss: 0.318\n",
      "Epoch: 2/3 Iteration: 2470 Train loss: 0.365\n",
      "Epoch: 2/3 Iteration: 2480 Train loss: 0.341\n",
      "Epoch: 2/3 Iteration: 2490 Train loss: 0.393\n",
      "Epoch: 2/3 Iteration: 2500 Train loss: 0.375\n",
      "Epoch: 2/3 Iteration: 2510 Train loss: 0.380\n",
      "Epoch: 2/3 Iteration: 2520 Train loss: 0.511\n",
      "Epoch: 3/3 Iteration: 2530 Train loss: 0.382\n",
      "Epoch: 3/3 Iteration: 2540 Train loss: 0.337\n",
      "Epoch: 3/3 Iteration: 2550 Train loss: 0.348\n",
      "Epoch: 3/3 Iteration: 2560 Train loss: 0.351\n",
      "Epoch: 3/3 Iteration: 2570 Train loss: 0.392\n",
      "Epoch: 3/3 Iteration: 2580 Train loss: 0.364\n",
      "Epoch: 3/3 Iteration: 2590 Train loss: 0.417\n",
      "Epoch: 3/3 Iteration: 2600 Train loss: 0.369\n",
      "Val acc: 0.500\n",
      "Epoch: 3/3 Iteration: 2610 Train loss: 0.391\n",
      "Epoch: 3/3 Iteration: 2620 Train loss: 0.366\n",
      "Epoch: 3/3 Iteration: 2630 Train loss: 0.286\n",
      "Epoch: 3/3 Iteration: 2640 Train loss: 0.365\n",
      "Epoch: 3/3 Iteration: 2650 Train loss: 0.400\n",
      "Epoch: 3/3 Iteration: 2660 Train loss: 0.308\n",
      "Epoch: 3/3 Iteration: 2670 Train loss: 0.333\n",
      "Epoch: 3/3 Iteration: 2680 Train loss: 0.364\n",
      "Epoch: 3/3 Iteration: 2690 Train loss: 0.380\n",
      "Epoch: 3/3 Iteration: 2700 Train loss: 0.320\n",
      "Epoch: 3/3 Iteration: 2710 Train loss: 0.368\n",
      "Epoch: 3/3 Iteration: 2720 Train loss: 0.331\n",
      "Epoch: 3/3 Iteration: 2730 Train loss: 0.297\n",
      "Epoch: 3/3 Iteration: 2740 Train loss: 0.382\n",
      "Epoch: 3/3 Iteration: 2750 Train loss: 0.346\n",
      "Epoch: 3/3 Iteration: 2760 Train loss: 0.359\n",
      "Epoch: 3/3 Iteration: 2770 Train loss: 0.352\n",
      "Epoch: 3/3 Iteration: 2780 Train loss: 0.375\n",
      "Epoch: 3/3 Iteration: 2790 Train loss: 0.316\n",
      "Epoch: 3/3 Iteration: 2800 Train loss: 0.376\n",
      "Val acc: 0.525\n",
      "Epoch: 3/3 Iteration: 2810 Train loss: 0.350\n",
      "Epoch: 3/3 Iteration: 2820 Train loss: 0.318\n",
      "Epoch: 3/3 Iteration: 2830 Train loss: 0.331\n",
      "Epoch: 3/3 Iteration: 2840 Train loss: 0.326\n",
      "Epoch: 3/3 Iteration: 2850 Train loss: 0.417\n",
      "Epoch: 3/3 Iteration: 2860 Train loss: 0.358\n",
      "Epoch: 3/3 Iteration: 2870 Train loss: 0.352\n",
      "Epoch: 3/3 Iteration: 2880 Train loss: 0.341\n",
      "Epoch: 3/3 Iteration: 2890 Train loss: 0.398\n",
      "Epoch: 3/3 Iteration: 2900 Train loss: 0.284\n",
      "Epoch: 3/3 Iteration: 2910 Train loss: 0.291\n",
      "Epoch: 3/3 Iteration: 2920 Train loss: 0.267\n",
      "Epoch: 3/3 Iteration: 2930 Train loss: 0.388\n",
      "Epoch: 3/3 Iteration: 2940 Train loss: 0.305\n",
      "Epoch: 3/3 Iteration: 2950 Train loss: 0.272\n",
      "Epoch: 3/3 Iteration: 2960 Train loss: 0.327\n",
      "Epoch: 3/3 Iteration: 2970 Train loss: 0.307\n",
      "Epoch: 3/3 Iteration: 2980 Train loss: 0.329\n",
      "Epoch: 3/3 Iteration: 2990 Train loss: 0.344\n",
      "Epoch: 3/3 Iteration: 3000 Train loss: 0.349\n",
      "Val acc: 0.531\n",
      "Epoch: 3/3 Iteration: 3010 Train loss: 0.255\n",
      "Epoch: 3/3 Iteration: 3020 Train loss: 0.347\n",
      "Epoch: 3/3 Iteration: 3030 Train loss: 0.274\n",
      "Epoch: 3/3 Iteration: 3040 Train loss: 0.319\n",
      "Epoch: 3/3 Iteration: 3050 Train loss: 0.321\n",
      "Epoch: 3/3 Iteration: 3060 Train loss: 0.295\n",
      "Epoch: 3/3 Iteration: 3070 Train loss: 0.307\n",
      "Epoch: 3/3 Iteration: 3080 Train loss: 0.373\n",
      "Epoch: 3/3 Iteration: 3090 Train loss: 0.315\n",
      "Epoch: 3/3 Iteration: 3100 Train loss: 0.297\n",
      "Epoch: 3/3 Iteration: 3110 Train loss: 0.250\n",
      "Epoch: 3/3 Iteration: 3120 Train loss: 0.300\n",
      "Epoch: 3/3 Iteration: 3130 Train loss: 0.280\n",
      "Epoch: 3/3 Iteration: 3140 Train loss: 0.323\n",
      "Epoch: 3/3 Iteration: 3150 Train loss: 0.255\n",
      "Epoch: 3/3 Iteration: 3160 Train loss: 0.335\n",
      "Epoch: 3/3 Iteration: 3170 Train loss: 0.348\n",
      "Epoch: 3/3 Iteration: 3180 Train loss: 0.355\n",
      "Epoch: 3/3 Iteration: 3190 Train loss: 0.297\n",
      "Epoch: 3/3 Iteration: 3200 Train loss: 0.368\n",
      "Val acc: 0.540\n",
      "Epoch: 3/3 Iteration: 3210 Train loss: 0.381\n",
      "Epoch: 3/3 Iteration: 3220 Train loss: 0.241\n",
      "Epoch: 3/3 Iteration: 3230 Train loss: 0.362\n",
      "Epoch: 3/3 Iteration: 3240 Train loss: 0.278\n",
      "Epoch: 3/3 Iteration: 3250 Train loss: 0.289\n",
      "Epoch: 3/3 Iteration: 3260 Train loss: 0.298\n",
      "Epoch: 3/3 Iteration: 3270 Train loss: 0.284\n",
      "Epoch: 3/3 Iteration: 3280 Train loss: 0.271\n",
      "Epoch: 3/3 Iteration: 3290 Train loss: 0.392\n",
      "Epoch: 3/3 Iteration: 3300 Train loss: 0.362\n",
      "Epoch: 3/3 Iteration: 3310 Train loss: 0.378\n",
      "Epoch: 3/3 Iteration: 3320 Train loss: 0.331\n",
      "Epoch: 3/3 Iteration: 3330 Train loss: 0.340\n",
      "Epoch: 3/3 Iteration: 3340 Train loss: 0.362\n",
      "Epoch: 3/3 Iteration: 3350 Train loss: 0.338\n",
      "Epoch: 3/3 Iteration: 3360 Train loss: 0.323\n",
      "Epoch: 3/3 Iteration: 3370 Train loss: 0.302\n",
      "Epoch: 3/3 Iteration: 3380 Train loss: 0.292\n",
      "Epoch: 3/3 Iteration: 3390 Train loss: 0.307\n",
      "Epoch: 3/3 Iteration: 3400 Train loss: 0.341\n",
      "Val acc: 0.545\n",
      "Epoch: 3/3 Iteration: 3410 Train loss: 0.300\n",
      "Epoch: 3/3 Iteration: 3420 Train loss: 0.295\n",
      "Epoch: 3/3 Iteration: 3430 Train loss: 0.312\n",
      "Epoch: 3/3 Iteration: 3440 Train loss: 0.341\n",
      "Epoch: 3/3 Iteration: 3450 Train loss: 0.283\n",
      "Epoch: 3/3 Iteration: 3460 Train loss: 0.314\n",
      "Epoch: 3/3 Iteration: 3470 Train loss: 0.305\n",
      "Epoch: 3/3 Iteration: 3480 Train loss: 0.319\n",
      "Epoch: 3/3 Iteration: 3490 Train loss: 0.288\n",
      "Epoch: 3/3 Iteration: 3500 Train loss: 0.279\n",
      "Epoch: 3/3 Iteration: 3510 Train loss: 0.331\n",
      "Epoch: 3/3 Iteration: 3520 Train loss: 0.299\n",
      "Epoch: 3/3 Iteration: 3530 Train loss: 0.251\n",
      "Epoch: 3/3 Iteration: 3540 Train loss: 0.306\n",
      "Epoch: 3/3 Iteration: 3550 Train loss: 0.337\n",
      "Epoch: 3/3 Iteration: 3560 Train loss: 0.303\n",
      "Epoch: 3/3 Iteration: 3570 Train loss: 0.325\n",
      "Epoch: 3/3 Iteration: 3580 Train loss: 0.372\n",
      "Epoch: 3/3 Iteration: 3590 Train loss: 0.337\n",
      "Epoch: 3/3 Iteration: 3600 Train loss: 0.246\n",
      "Val acc: 0.539\n",
      "Epoch: 3/3 Iteration: 3610 Train loss: 0.276\n",
      "Epoch: 3/3 Iteration: 3620 Train loss: 0.265\n",
      "Epoch: 3/3 Iteration: 3630 Train loss: 0.323\n",
      "Epoch: 3/3 Iteration: 3640 Train loss: 0.317\n",
      "Epoch: 3/3 Iteration: 3650 Train loss: 0.269\n",
      "Epoch: 3/3 Iteration: 3660 Train loss: 0.311\n",
      "Epoch: 3/3 Iteration: 3670 Train loss: 0.253\n",
      "Epoch: 3/3 Iteration: 3680 Train loss: 0.302\n",
      "Epoch: 3/3 Iteration: 3690 Train loss: 0.239\n",
      "Epoch: 3/3 Iteration: 3700 Train loss: 0.258\n"
     ]
    }
   ],
   "source": [
    "epochs = 3\n",
    "t_vars = tf.trainable_variables()\n",
    "saver = tf.train.Saver(var_list=t_vars)\n",
    "\n",
    "with tf.Session() as sess:\n",
    "    sess.run(tf.global_variables_initializer())\n",
    "    iteration = 1\n",
    "    for e in range(epochs):\n",
    "        state_fwd1 = sess.run(initial_state_fwd1)\n",
    "        state_bwd1 = sess.run(initial_state_bwd1)\n",
    "        state_fwd2 = sess.run(initial_state_fwd2)\n",
    "        state_bwd2 = sess.run(initial_state_bwd2)\n",
    "        \n",
    "        for ii, (x1, x2, y) in enumerate(get_batches(train_q1, train_q2, train_y, batch_size), 1):\n",
    "            train_seq_len = np.ones(batch_size) * seq_length\n",
    "            feed = {inputs_1: x1,\n",
    "                    inputs_2: x2,\n",
    "                    labels_: y[:,None],\n",
    "                    keep_prob: 0.5,\n",
    "                    initial_state_fwd1: state_fwd1,\n",
    "                    initial_state_bwd1: state_bwd1,\n",
    "                    initial_state_fwd2: state_fwd2,\n",
    "                    initial_state_bwd2: state_bwd2,\n",
    "                    seq_len:train_seq_len}\n",
    "            loss, state1, state2,_ = sess.run([cost, final_state1, final_state2, optimizer], feed_dict=feed)\n",
    "            \n",
    "            if iteration%10==0:\n",
    "                print(\"Epoch: {}/{}\".format(e + 1, epochs),\n",
    "                      \"Iteration: {}\".format(iteration),\n",
    "                      \"Train loss: {:.3f}\".format(loss))\n",
    "\n",
    "            if iteration%200==0:\n",
    "                val_acc = []\n",
    "                val_state_fwd1 = sess.run(cell_fwd1.zero_state(batch_size, tf.float32))\n",
    "                val_state_bwd1 = sess.run(cell_bwd1.zero_state(batch_size, tf.float32))\n",
    "                val_state_fwd2 = sess.run(cell_fwd2.zero_state(batch_size, tf.float32))\n",
    "                val_state_bwd2 = sess.run(cell_bwd2.zero_state(batch_size, tf.float32))\n",
    "                for x1, x2, y in get_batches(val_q1, val_q2, val_y, batch_size):\n",
    "                    feed = {inputs_1: x1,\n",
    "                            inputs_2: x2,\n",
    "                            labels_: y[:, None],\n",
    "                            keep_prob: 1,\n",
    "                            initial_state_fwd1: val_state_fwd1,\n",
    "                            initial_state_fwd1: val_state_bwd1,\n",
    "                            initial_state_fwd2: val_state_fwd2,\n",
    "                            initial_state_fwd2: val_state_bwd2,\n",
    "                            seq_len:train_seq_len}\n",
    "                    batch_acc, val_state1, val_state2 = sess.run([cost, final_state1, final_state2], feed_dict=feed)\n",
    "                    val_acc.append(batch_acc)\n",
    "                print(\"Val acc: {:.3f}\".format(np.mean(val_acc)))\n",
    "            iteration +=1\n",
    "    saver.save(sess, \"checkpoints/duplicates2.ckpt\")"
   ]
  },
  {
   "cell_type": "code",
   "execution_count": 32,
   "metadata": {
    "collapsed": false,
    "deletable": true,
    "editable": true
   },
   "outputs": [
    {
     "name": "stderr",
     "output_type": "stream",
     "text": [
      "/home/carnd/anaconda3/envs/dl/lib/python3.5/site-packages/ipykernel/__main__.py:2: FutureWarning: comparison to `None` will result in an elementwise object comparison in the future.\n",
      "  from ipykernel import kernelapp as app\n"
     ]
    },
    {
     "name": "stdout",
     "output_type": "stream",
     "text": [
      "Test accuracy: 0.539\n"
     ]
    }
   ],
   "source": [
    "test_acc = []\n",
    "with tf.Session() as sess:\n",
    "    saver.restore(sess, tf.train.latest_checkpoint('checkpoints'))\n",
    "    test_state_fwd1 = sess.run(initial_state_fwd1)\n",
    "    test_state_bwd1 = sess.run(initial_state_bwd1)\n",
    "    test_state_fwd2 = sess.run(initial_state_fwd2)\n",
    "    test_state_bwd2 = sess.run(initial_state_bwd2)\n",
    "    for ii, (x1, x2, y) in enumerate(get_batches(test_q1, test_q2, test_y, batch_size), 1):\n",
    "        feed = {inputs_1: x1,\n",
    "                inputs_2: x2,\n",
    "                labels_: y[:, None],\n",
    "                keep_prob: 1,\n",
    "                initial_state_fwd1: test_state_fwd1,\n",
    "                initial_state_bwd1: test_state_bwd1,\n",
    "                initial_state_fwd2: test_state_fwd2,\n",
    "                initial_state_bwd2: test_state_bwd2,\n",
    "                seq_len:train_seq_len}\n",
    "        batch_acc, test_state1, test_state2 = sess.run([cost, final_state1, final_state2], feed_dict=feed)\n",
    "        test_acc.append(batch_acc)\n",
    "    print(\"Test accuracy: {:.3f}\".format(np.mean(test_acc)))"
   ]
  },
  {
   "cell_type": "code",
   "execution_count": 44,
   "metadata": {
    "collapsed": false,
    "deletable": true,
    "editable": true
   },
   "outputs": [
    {
     "name": "stdout",
     "output_type": "stream",
     "text": [
      "2345796\n"
     ]
    }
   ],
   "source": [
    "test_set = pd.read_csv('test.csv').fillna(\"Empty\")\n",
    "print(len(test_set))"
   ]
  },
  {
   "cell_type": "code",
   "execution_count": 45,
   "metadata": {
    "collapsed": false,
    "deletable": true,
    "editable": true
   },
   "outputs": [
    {
     "name": "stdout",
     "output_type": "stream",
     "text": [
      "0\n",
      "100000\n",
      "200000\n",
      "300000\n",
      "400000\n",
      "500000\n",
      "600000\n",
      "700000\n",
      "800000\n",
      "900000\n",
      "1000000\n",
      "1100000\n",
      "1200000\n",
      "1300000\n",
      "1400000\n",
      "1500000\n",
      "1600000\n",
      "1700000\n",
      "1800000\n",
      "1900000\n",
      "2000000\n",
      "2100000\n",
      "2200000\n",
      "2300000\n",
      "Finished converting to ints. Now padding...\n",
      "0\n",
      "100000\n",
      "200000\n",
      "300000\n",
      "400000\n",
      "500000\n",
      "600000\n",
      "700000\n",
      "800000\n",
      "900000\n",
      "1000000\n",
      "1100000\n",
      "1200000\n",
      "1300000\n",
      "1400000\n",
      "1500000\n",
      "1600000\n",
      "1700000\n",
      "1800000\n",
      "1900000\n",
      "2000000\n",
      "2100000\n",
      "2200000\n",
      "2300000\n",
      "Finished converting to ints. Now padding...\n"
     ]
    }
   ],
   "source": [
    "test_questions1 = test_set['question1'].tolist()\n",
    "test_questions2 = test_set['question2'].tolist()\n",
    "test_question_ints1 = convert_to_ints(test_questions1, max_words, vocab_to_int_dict)\n",
    "test_question_ints2 = convert_to_ints(test_questions2, max_words, vocab_to_int_dict)"
   ]
  },
  {
   "cell_type": "code",
   "execution_count": null,
   "metadata": {
    "collapsed": false,
    "deletable": true,
    "editable": true
   },
   "outputs": [],
   "source": [
    "# Make predictions\n",
    "\n",
    "predictions = []\n",
    "with tf.Session() as sess:\n",
    "    saver.restore(sess, tf.train.latest_checkpoint('checkpoints'))\n",
    "    test_state1 = sess.run(initial_state1)\n",
    "    test_state2 = sess.run(initial_state2)\n",
    "    for ii, (x1, x2, _) in enumerate(get_batches(test_question_ints1, test_question_ints2, None, batch_size), 1):\n",
    "        feed = {inputs_1: x1,\n",
    "                inputs_2: x2,\n",
    "                keep_prob: 1}\n",
    "        prediction = sess.run([predictions], feed_dict=feed)\n",
    "        predictions.append(prediction)"
   ]
  },
  {
   "cell_type": "code",
   "execution_count": null,
   "metadata": {
    "collapsed": true,
    "deletable": true,
    "editable": true
   },
   "outputs": [],
   "source": [
    "print(len(test_set))\n",
    "print(len(predictions))"
   ]
  }
 ],
 "metadata": {
  "anaconda-cloud": {},
  "kernelspec": {
   "display_name": "Python 3",
   "language": "python",
   "name": "python3"
  },
  "language_info": {
   "codemirror_mode": {
    "name": "ipython",
    "version": 3
   },
   "file_extension": ".py",
   "mimetype": "text/x-python",
   "name": "python",
   "nbconvert_exporter": "python",
   "pygments_lexer": "ipython3",
   "version": "3.5.2"
  },
  "widgets": {
   "state": {},
   "version": "1.1.2"
  }
 },
 "nbformat": 4,
 "nbformat_minor": 1
}
